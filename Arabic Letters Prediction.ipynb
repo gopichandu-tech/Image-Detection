{
 "cells": [
  {
   "cell_type": "code",
   "execution_count": 1,
   "id": "602a2584",
   "metadata": {},
   "outputs": [],
   "source": [
    "import pandas as pd\n",
    "import numpy as np"
   ]
  },
  {
   "cell_type": "code",
   "execution_count": 2,
   "id": "a3ca0453",
   "metadata": {},
   "outputs": [],
   "source": [
    "X_train = pd.read_csv('csvTrainImages 60k x 784.csv')#csvTrainImages 60k x 784.csv\n",
    "y_train = pd.read_csv('csvTrainLabel 60k x 1.csv')\n",
    "X_test = pd.read_csv('csvTestImages 10k x 784.csv')\n",
    "y_test = pd.read_csv('csvTestLabel 10k x 1.csv')"
   ]
  },
  {
   "cell_type": "code",
   "execution_count": 3,
   "id": "3a50474b",
   "metadata": {},
   "outputs": [],
   "source": [
    "# Normalise and reshape\n",
    "X_train=X_train.values.reshape((-1,28,28,1))/255.0\n",
    "X_test=X_test.values.reshape((-1,28,28,1))/255.0"
   ]
  },
  {
   "cell_type": "code",
   "execution_count": 4,
   "id": "628a564a",
   "metadata": {},
   "outputs": [
    {
     "data": {
      "text/html": [
       "<div>\n",
       "<style scoped>\n",
       "    .dataframe tbody tr th:only-of-type {\n",
       "        vertical-align: middle;\n",
       "    }\n",
       "\n",
       "    .dataframe tbody tr th {\n",
       "        vertical-align: top;\n",
       "    }\n",
       "\n",
       "    .dataframe thead th {\n",
       "        text-align: right;\n",
       "    }\n",
       "</style>\n",
       "<table border=\"1\" class=\"dataframe\">\n",
       "  <thead>\n",
       "    <tr style=\"text-align: right;\">\n",
       "      <th></th>\n",
       "      <th>0</th>\n",
       "    </tr>\n",
       "  </thead>\n",
       "  <tbody>\n",
       "    <tr>\n",
       "      <th>0</th>\n",
       "      <td>1</td>\n",
       "    </tr>\n",
       "    <tr>\n",
       "      <th>1</th>\n",
       "      <td>2</td>\n",
       "    </tr>\n",
       "    <tr>\n",
       "      <th>2</th>\n",
       "      <td>3</td>\n",
       "    </tr>\n",
       "    <tr>\n",
       "      <th>3</th>\n",
       "      <td>4</td>\n",
       "    </tr>\n",
       "    <tr>\n",
       "      <th>4</th>\n",
       "      <td>5</td>\n",
       "    </tr>\n",
       "    <tr>\n",
       "      <th>...</th>\n",
       "      <td>...</td>\n",
       "    </tr>\n",
       "    <tr>\n",
       "      <th>59994</th>\n",
       "      <td>5</td>\n",
       "    </tr>\n",
       "    <tr>\n",
       "      <th>59995</th>\n",
       "      <td>6</td>\n",
       "    </tr>\n",
       "    <tr>\n",
       "      <th>59996</th>\n",
       "      <td>7</td>\n",
       "    </tr>\n",
       "    <tr>\n",
       "      <th>59997</th>\n",
       "      <td>8</td>\n",
       "    </tr>\n",
       "    <tr>\n",
       "      <th>59998</th>\n",
       "      <td>9</td>\n",
       "    </tr>\n",
       "  </tbody>\n",
       "</table>\n",
       "<p>59999 rows × 1 columns</p>\n",
       "</div>"
      ],
      "text/plain": [
       "       0\n",
       "0      1\n",
       "1      2\n",
       "2      3\n",
       "3      4\n",
       "4      5\n",
       "...   ..\n",
       "59994  5\n",
       "59995  6\n",
       "59996  7\n",
       "59997  8\n",
       "59998  9\n",
       "\n",
       "[59999 rows x 1 columns]"
      ]
     },
     "execution_count": 4,
     "metadata": {},
     "output_type": "execute_result"
    }
   ],
   "source": [
    "y_train"
   ]
  },
  {
   "cell_type": "code",
   "execution_count": 5,
   "id": "76b824e2",
   "metadata": {},
   "outputs": [],
   "source": [
    "from sklearn.preprocessing import OneHotEncoder\n",
    "from keras.utils.np_utils import to_categorical"
   ]
  },
  {
   "cell_type": "code",
   "execution_count": 6,
   "id": "48264888",
   "metadata": {},
   "outputs": [
    {
     "data": {
      "text/plain": [
       "array([[0., 1., 0., ..., 0., 0., 0.],\n",
       "       [0., 0., 1., ..., 0., 0., 0.],\n",
       "       [0., 0., 0., ..., 0., 0., 0.],\n",
       "       ...,\n",
       "       [0., 0., 0., ..., 1., 0., 0.],\n",
       "       [0., 0., 0., ..., 0., 1., 0.],\n",
       "       [0., 0., 0., ..., 0., 0., 1.]], dtype=float32)"
      ]
     },
     "execution_count": 6,
     "metadata": {},
     "output_type": "execute_result"
    }
   ],
   "source": [
    "# OnehotEncode y_train\n",
    "y_train=to_categorical(y_train, num_classes=10)\n",
    "y_train"
   ]
  },
  {
   "cell_type": "code",
   "execution_count": 7,
   "id": "d817303a",
   "metadata": {},
   "outputs": [],
   "source": [
    "y_train = np.array(y_train)"
   ]
  },
  {
   "cell_type": "code",
   "execution_count": 8,
   "id": "f4ca8cb3",
   "metadata": {},
   "outputs": [
    {
     "data": {
      "text/plain": [
       "array([[0., 1., 0., ..., 0., 0., 0.],\n",
       "       [0., 0., 1., ..., 0., 0., 0.],\n",
       "       [0., 0., 0., ..., 0., 0., 0.],\n",
       "       ...,\n",
       "       [0., 0., 0., ..., 1., 0., 0.],\n",
       "       [0., 0., 0., ..., 0., 1., 0.],\n",
       "       [0., 0., 0., ..., 0., 0., 1.]], dtype=float32)"
      ]
     },
     "execution_count": 8,
     "metadata": {},
     "output_type": "execute_result"
    }
   ],
   "source": [
    "y_train"
   ]
  },
  {
   "cell_type": "code",
   "execution_count": 9,
   "id": "64264c5e",
   "metadata": {},
   "outputs": [
    {
     "data": {
      "text/plain": [
       "array([[0., 1., 0., ..., 0., 0., 0.],\n",
       "       [0., 0., 1., ..., 0., 0., 0.],\n",
       "       [0., 0., 0., ..., 0., 0., 0.],\n",
       "       ...,\n",
       "       [0., 0., 0., ..., 1., 0., 0.],\n",
       "       [0., 0., 0., ..., 0., 1., 0.],\n",
       "       [0., 0., 0., ..., 0., 0., 1.]], dtype=float32)"
      ]
     },
     "execution_count": 9,
     "metadata": {},
     "output_type": "execute_result"
    }
   ],
   "source": [
    "# OnehotEncode y_train\n",
    "y_test=to_categorical(y_test, num_classes=10)\n",
    "y_test"
   ]
  },
  {
   "cell_type": "code",
   "execution_count": 42,
   "id": "b5501947",
   "metadata": {},
   "outputs": [
    {
     "name": "stdout",
     "output_type": "stream",
     "text": [
      "(59999, 28, 28, 1)\n",
      "(9999, 28, 28, 1)\n",
      "(59999, 10)\n",
      "(9999, 10)\n"
     ]
    }
   ],
   "source": [
    "print(X_train.shape)\n",
    "print(X_test.shape)\n",
    "print(y_train.shape)\n",
    "print(y_test.shape)"
   ]
  },
  {
   "cell_type": "code",
   "execution_count": 43,
   "id": "eb4767a7",
   "metadata": {},
   "outputs": [],
   "source": [
    "import matplotlib.pyplot as plt\n",
    "import seaborn as sns"
   ]
  },
  {
   "cell_type": "code",
   "execution_count": null,
   "id": "2b49124b",
   "metadata": {},
   "outputs": [],
   "source": []
  },
  {
   "cell_type": "code",
   "execution_count": 44,
   "id": "55a4a68d",
   "metadata": {},
   "outputs": [
    {
     "data": {
      "image/png": "[encoded data removed]",
      "text/plain": [
       "<Figure size 720x720 with 16 Axes>"
      ]
     },
     "metadata": {},
     "output_type": "display_data"
    }
   ],
   "source": [
    "figure = plt.figure(figsize=(10,10))\n",
    "\n",
    "random_picking = index=np.random.randint(0,23000,16)\n",
    "\n",
    "for indexing in range(len(random_picking)):\n",
    "    plt.subplot(4,4,(indexing%25)+1)\n",
    "    plt.grid(True)\n",
    "    plt.xticks([])\n",
    "    plt.yticks([])\n",
    "    plt.imshow(X_train[random_picking[indexing]])\n",
    "    \n",
    "    plt.xlabel(y_test[i].argmax(axis=-1))\n",
    "\n",
    "plt.show()"
   ]
  },
  {
   "cell_type": "code",
   "execution_count": null,
   "id": "12f394bb",
   "metadata": {},
   "outputs": [],
   "source": []
  },
  {
   "cell_type": "code",
   "execution_count": 11,
   "id": "95bfc5be",
   "metadata": {},
   "outputs": [],
   "source": [
    "import tensorflow as tf"
   ]
  },
  {
   "cell_type": "code",
   "execution_count": 12,
   "id": "8014486f",
   "metadata": {},
   "outputs": [],
   "source": [
    "Early_Stopper = tf.keras.callbacks.EarlyStopping(monitor=\"loss\",patience=5,mode=\"min\")\n",
    "Checkpoint_Model = tf.keras.callbacks.ModelCheckpoint(monitor=\"val_accuracy\",\n",
    "                                                      save_best_only=True,\n",
    "                                                      save_weights_only=True,\n",
    "                                                      filepath=\"./modelcheck\")"
   ]
  },
  {
   "cell_type": "code",
   "execution_count": 13,
   "id": "a3253dce",
   "metadata": {},
   "outputs": [],
   "source": [
    "from keras.optimizers import RMSprop,Adam,Optimizer,Optimizer, SGD"
   ]
  },
  {
   "cell_type": "code",
   "execution_count": 14,
   "id": "95cf1d76",
   "metadata": {},
   "outputs": [],
   "source": [
    "from sklearn.metrics import mean_squared_error, r2_score"
   ]
  },
  {
   "cell_type": "code",
   "execution_count": 18,
   "id": "d9eaae75",
   "metadata": {},
   "outputs": [],
   "source": [
    "# for general\n",
    "COMPILE_OPTIMIZER = Adam()\n",
    "COMPILE_LOSS = \"msle\" # mean squared logarithmic error\n",
    "COMPILE_METRICS = [\"accuracy\"]\n",
    "INPUT_SHAPE = (X_train.shape[1],X_train.shape[2],X_train.shape[3])\n",
    "OUTPUT_CLASS = 10"
   ]
  },
  {
   "cell_type": "code",
   "execution_count": 19,
   "id": "51a1f10b",
   "metadata": {},
   "outputs": [],
   "source": [
    "from tensorflow.keras.models import Sequential"
   ]
  },
  {
   "cell_type": "code",
   "execution_count": 20,
   "id": "4cdb4c3f",
   "metadata": {},
   "outputs": [],
   "source": [
    "from keras.layers import Dense, Dropout, Flatten, Conv2D, MaxPool2D, BatchNormalization,MaxPooling2D,BatchNormalization,\\\n",
    "                        Permute, TimeDistributed, Bidirectional,GRU, SimpleRNN, LSTM, GlobalAveragePooling2D, SeparableConv2D,\\\n",
    "ZeroPadding2D, Convolution2D, ZeroPadding2D,AveragePooling2D"
   ]
  },
  {
   "cell_type": "code",
   "execution_count": 21,
   "id": "69d95d4f",
   "metadata": {},
   "outputs": [],
   "source": [
    "Model = Sequential()\n",
    "\n",
    "Model.add(Conv2D(32,(3,3),activation=\"relu\",input_shape=INPUT_SHAPE))\n",
    "Model.add(BatchNormalization())\n",
    "Model.add(MaxPooling2D((2,2)))\n",
    "\n",
    "Model.add(Conv2D(64,(3,3),activation=\"relu\"))\n",
    "Model.add(Dropout(0.3))\n",
    "Model.add(MaxPooling2D((2,2)))\n",
    "Model.add(BatchNormalization())\n",
    "\n",
    "Model.add(Conv2D(128,(3,3),activation=\"relu\"))\n",
    "Model.add(Dropout(0.3))\n",
    "Model.add(MaxPooling2D((2,2)))\n",
    "Model.add(BatchNormalization())\n",
    "\n",
    "\n",
    "Model.add(Flatten())\n",
    "Model.add(Dense(128,activation=\"relu\"))\n",
    "Model.add(BatchNormalization())\n",
    "Model.add(Dropout(0.5))\n",
    "Model.add(Dense(64,activation=\"relu\"))\n",
    "Model.add(BatchNormalization())\n",
    "Model.add(Dropout(0.5))\n",
    "Model.add(Dense(OUTPUT_CLASS,activation=\"softmax\"))"
   ]
  },
  {
   "cell_type": "code",
   "execution_count": 22,
   "id": "facedf0e",
   "metadata": {},
   "outputs": [],
   "source": [
    "Model.compile(optimizer=COMPILE_OPTIMIZER,loss=COMPILE_LOSS,metrics=COMPILE_METRICS)"
   ]
  },
  {
   "cell_type": "code",
   "execution_count": 23,
   "id": "640b8cc8",
   "metadata": {},
   "outputs": [
    {
     "name": "stdout",
     "output_type": "stream",
     "text": [
      "Epoch 1/10\n",
      "5000/5000 [==============================] - 52s 10ms/step - loss: 0.0068 - accuracy: 0.9066 - val_loss: 0.0017 - val_accuracy: 0.9775\n",
      "Epoch 2/10\n",
      "5000/5000 [==============================] - 51s 10ms/step - loss: 0.0031 - accuracy: 0.9605 - val_loss: 0.0015 - val_accuracy: 0.9797\n",
      "Epoch 3/10\n",
      "5000/5000 [==============================] - 52s 10ms/step - loss: 0.0024 - accuracy: 0.9694 - val_loss: 0.0014 - val_accuracy: 0.9824\n",
      "Epoch 4/10\n",
      "5000/5000 [==============================] - 53s 11ms/step - loss: 0.0020 - accuracy: 0.9738 - val_loss: 0.0011 - val_accuracy: 0.9866\n",
      "Epoch 5/10\n",
      "5000/5000 [==============================] - 54s 11ms/step - loss: 0.0018 - accuracy: 0.9762 - val_loss: 0.0011 - val_accuracy: 0.9854\n",
      "Epoch 6/10\n",
      "5000/5000 [==============================] - 54s 11ms/step - loss: 0.0018 - accuracy: 0.9776 - val_loss: 0.0010 - val_accuracy: 0.9875\n",
      "Epoch 7/10\n",
      "5000/5000 [==============================] - 53s 11ms/step - loss: 0.0017 - accuracy: 0.9787 - val_loss: 0.0011 - val_accuracy: 0.9856\n",
      "Epoch 8/10\n",
      "5000/5000 [==============================] - 54s 11ms/step - loss: 0.0015 - accuracy: 0.9804 - val_loss: 9.2511e-04 - val_accuracy: 0.9888\n",
      "Epoch 9/10\n",
      "5000/5000 [==============================] - 54s 11ms/step - loss: 0.0015 - accuracy: 0.9819 - val_loss: 0.0010 - val_accuracy: 0.9872\n",
      "Epoch 10/10\n",
      "5000/5000 [==============================] - 54s 11ms/step - loss: 0.0015 - accuracy: 0.9812 - val_loss: 9.1276e-04 - val_accuracy: 0.9887\n"
     ]
    }
   ],
   "source": [
    "CNN_Model = Model.fit(X_train,y_train,\n",
    "                      validation_data=(X_test,y_test),\n",
    "                      callbacks=[Early_Stopper,Checkpoint_Model],\n",
    "                      batch_size=12,\n",
    "                      epochs=10)"
   ]
  },
  {
   "cell_type": "code",
   "execution_count": 25,
   "id": "c33bf4c2",
   "metadata": {},
   "outputs": [
    {
     "name": "stdout",
     "output_type": "stream",
     "text": [
      "313/313 [==============================] - 1s 4ms/step - loss: 9.1276e-04 - accuracy: 0.9887\n",
      "LOSS:  0.0009\n",
      "ACCURACY:  0.99\n"
     ]
    }
   ],
   "source": [
    "Model_Results = Model.evaluate(X_test,y_test)\n",
    "print(\"LOSS:  \" + \"%.4f\" % Model_Results[0])\n",
    "print(\"ACCURACY:  \" + \"%.2f\" % Model_Results[1])"
   ]
  },
  {
   "cell_type": "code",
   "execution_count": 26,
   "id": "b6dde7ad",
   "metadata": {},
   "outputs": [
    {
     "data": {
      "text/plain": [
       "<AxesSubplot:>"
      ]
     },
     "execution_count": 26,
     "metadata": {},
     "output_type": "execute_result"
    },
    {
     "data": {
      "image/png": "[encoded data removed]",
      "text/plain": [
       "<Figure size 432x288 with 1 Axes>"
      ]
     },
     "metadata": {
      "needs_background": "light"
     },
     "output_type": "display_data"
    }
   ],
   "source": [
    "Grap_Data = pd.DataFrame(CNN_Model.history)\n",
    "Grap_Data.plot()"
   ]
  },
  {
   "cell_type": "code",
   "execution_count": 29,
   "id": "ceb53be8",
   "metadata": {},
   "outputs": [],
   "source": [
    "Prediction_Results = Model.predict(X_test)"
   ]
  },
  {
   "cell_type": "code",
   "execution_count": 30,
   "id": "0e766f25",
   "metadata": {},
   "outputs": [],
   "source": [
    "Model_Test_Prediction = Prediction_Results.argmax(axis=-1)"
   ]
  },
  {
   "cell_type": "code",
   "execution_count": 31,
   "id": "d1b47389",
   "metadata": {},
   "outputs": [],
   "source": [
    "Model_True_Values = y_test.argmax(axis=-1)"
   ]
  },
  {
   "cell_type": "code",
   "execution_count": 32,
   "id": "faf7e166",
   "metadata": {},
   "outputs": [],
   "source": [
    "from sklearn.metrics import confusion_matrix, accuracy_score, classification_report, roc_auc_score, roc_curve"
   ]
  },
  {
   "cell_type": "code",
   "execution_count": 33,
   "id": "d0e7c456",
   "metadata": {},
   "outputs": [
    {
     "name": "stdout",
     "output_type": "stream",
     "text": [
      "[[984   3   0   0   1   9   0   1   1   0]\n",
      " [ 10 990   0   0   0   0   0   0   0   0]\n",
      " [  3   2 986   3   1   4   0   0   1   0]\n",
      " [  0   4  10 985   0   0   0   1   0   0]\n",
      " [  0   2   6   1 987   3   0   1   0   0]\n",
      " [  6   0   5   0   0 981   0   3   2   3]\n",
      " [  4   4   0   0   1   0 989   0   0   2]\n",
      " [  0   0   0   0   0   2   0 998   0   0]\n",
      " [  0   0   1   0   0   1   0   0 998   0]\n",
      " [  2   1   1   1   0   4   2   1   0 988]]\n"
     ]
    }
   ],
   "source": [
    "print(confusion_matrix(Model_True_Values,Model_Test_Prediction))"
   ]
  },
  {
   "cell_type": "code",
   "execution_count": 34,
   "id": "6bc9defd",
   "metadata": {},
   "outputs": [
    {
     "name": "stdout",
     "output_type": "stream",
     "text": [
      "              precision    recall  f1-score   support\n",
      "\n",
      "           0       0.98      0.98      0.98       999\n",
      "           1       0.98      0.99      0.99      1000\n",
      "           2       0.98      0.99      0.98      1000\n",
      "           3       0.99      0.98      0.99      1000\n",
      "           4       1.00      0.99      0.99      1000\n",
      "           5       0.98      0.98      0.98      1000\n",
      "           6       1.00      0.99      0.99      1000\n",
      "           7       0.99      1.00      1.00      1000\n",
      "           8       1.00      1.00      1.00      1000\n",
      "           9       0.99      0.99      0.99      1000\n",
      "\n",
      "    accuracy                           0.99      9999\n",
      "   macro avg       0.99      0.99      0.99      9999\n",
      "weighted avg       0.99      0.99      0.99      9999\n",
      "\n"
     ]
    }
   ],
   "source": [
    "print(classification_report(Model_True_Values,Model_Test_Prediction))"
   ]
  },
  {
   "cell_type": "code",
   "execution_count": 35,
   "id": "bb15d424",
   "metadata": {},
   "outputs": [
    {
     "name": "stdout",
     "output_type": "stream",
     "text": [
      "[1 2 3 ... 7 8 9]\n"
     ]
    }
   ],
   "source": [
    "print(Model_Test_Prediction)"
   ]
  },
  {
   "cell_type": "code",
   "execution_count": 36,
   "id": "6a24d2be",
   "metadata": {},
   "outputs": [
    {
     "name": "stdout",
     "output_type": "stream",
     "text": [
      "2\n"
     ]
    }
   ],
   "source": [
    "print(y_test[1].argmax(axis=-1))"
   ]
  },
  {
   "cell_type": "code",
   "execution_count": 48,
   "id": "0ab8e5b8",
   "metadata": {},
   "outputs": [
    {
     "data": {
      "image/png": "[encoded data removed]",
      "text/plain": [
       "<Figure size 1440x1440 with 25 Axes>"
      ]
     },
     "metadata": {},
     "output_type": "display_data"
    }
   ],
   "source": [
    "fig, axes = plt.subplots(nrows=5,\n",
    "                         ncols=5,\n",
    "                         figsize=(20, 20),\n",
    "                        subplot_kw={'xticks': [], 'yticks': []})\n",
    "\n",
    "for i, ax in enumerate(axes.flat):\n",
    "    ax.imshow(X_test[i])\n",
    "    ax.set_title(f\"PREDICTION Value:{Model_Test_Prediction[i]}\")\n",
    "    ax.set_xlabel(f\"NORMAL VALUE: {y_test[i].argmax(axis=-1)}\")\n",
    "plt.tight_layout()\n",
    "plt.show()"
   ]
  },
  {
   "cell_type": "code",
   "execution_count": null,
   "id": "12302570",
   "metadata": {},
   "outputs": [],
   "source": []
  }
 ],
 "metadata": {
  "kernelspec": {
   "display_name": "Python 3",
   "language": "python",
   "name": "python3"
  },
  "language_info": {
   "codemirror_mode": {
    "name": "ipython",
    "version": 3
   },
   "file_extension": ".py",
   "mimetype": "text/x-python",
   "name": "python",
   "nbconvert_exporter": "python",
   "pygments_lexer": "ipython3",
   "version": "3.8.10"
  }
 },
 "nbformat": 4,
 "nbformat_minor": 5
}
